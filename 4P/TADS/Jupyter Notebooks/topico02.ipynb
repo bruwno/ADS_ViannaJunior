{
 "cells": [
  {
   "cell_type": "markdown",
   "id": "de3082c2-d709-4f19-829b-00d4891a9599",
   "metadata": {
    "jp-MarkdownHeadingCollapsed": true
   },
   "source": [
    "Tipos de variáveis"
   ]
  },
  {
   "cell_type": "code",
   "execution_count": 1,
   "id": "a9276733-ce84-4ae3-9d94-106b6a2ec05c",
   "metadata": {},
   "outputs": [
    {
     "name": "stdout",
     "output_type": "stream",
     "text": [
      "Usando notebook\n"
     ]
    }
   ],
   "source": [
    "print(\"Usando notebook\")"
   ]
  },
  {
   "cell_type": "code",
   "execution_count": 4,
   "id": "b4ccd7a6-ddc2-466e-92aa-fd71e7e9be82",
   "metadata": {},
   "outputs": [
    {
     "name": "stdout",
     "output_type": "stream",
     "text": [
      "1\n"
     ]
    }
   ],
   "source": [
    "teste = 1\n",
    "print(teste)"
   ]
  },
  {
   "cell_type": "code",
   "execution_count": 8,
   "id": "0b9a04f1-c38d-4e68-82b1-30108d7faefd",
   "metadata": {},
   "outputs": [
    {
     "data": {
      "text/plain": [
       "63.617251235400005"
      ]
     },
     "execution_count": 8,
     "metadata": {},
     "output_type": "execute_result"
    }
   ],
   "source": [
    "pi = 3.1415926536\n",
    "radius = 4.5\n",
    "area = pi * (radius ** 2)\n",
    "area"
   ]
  },
  {
   "cell_type": "markdown",
   "id": "d0d4e2fd-3220-4804-9218-2b75f87749d3",
   "metadata": {},
   "source": [
    "# FLOAT INFO"
   ]
  },
  {
   "cell_type": "code",
   "execution_count": 9,
   "id": "f8ab252d-c03d-4373-81a1-75a257a4d2a5",
   "metadata": {},
   "outputs": [
    {
     "data": {
      "text/plain": [
       "sys.float_info(max=1.7976931348623157e+308, max_exp=1024, max_10_exp=308, min=2.2250738585072014e-308, min_exp=-1021, min_10_exp=-307, dig=15, mant_dig=53, epsilon=2.220446049250313e-16, radix=2, rounds=1)"
      ]
     },
     "execution_count": 9,
     "metadata": {},
     "output_type": "execute_result"
    }
   ],
   "source": [
    "import sys\n",
    "sys.float_info"
   ]
  },
  {
   "cell_type": "markdown",
   "id": "4a3606eb-7370-4a14-8d09-e675b56b087e",
   "metadata": {},
   "source": [
    "# NUMEROS COMPLEXOS"
   ]
  },
  {
   "cell_type": "code",
   "execution_count": 10,
   "id": "4db53501-c6b5-4322-84a7-9ead126a522f",
   "metadata": {},
   "outputs": [
    {
     "data": {
      "text/plain": [
       "2.73"
      ]
     },
     "execution_count": 10,
     "metadata": {},
     "output_type": "execute_result"
    }
   ],
   "source": [
    "c = 3.14 + 2.73j\n",
    "c.real\n",
    "c.imag"
   ]
  },
  {
   "cell_type": "code",
   "execution_count": null,
   "id": "d31d2304-4930-4ccb-bccc-2977ccd8cbce",
   "metadata": {},
   "outputs": [],
   "source": []
  },
  {
   "cell_type": "code",
   "execution_count": 11,
   "id": "9e97e603-7826-4f7f-9cc8-c1d47295f735",
   "metadata": {},
   "outputs": [
    {
     "data": {
      "text/plain": [
       "8.75"
      ]
     },
     "execution_count": 11,
     "metadata": {},
     "output_type": "execute_result"
    }
   ],
   "source": [
    "d = complex(2.45,8.75)\n",
    "d.imag"
   ]
  },
  {
   "cell_type": "code",
   "execution_count": null,
   "id": "b4b557c3-495f-4600-bea2-b0349e13f92f",
   "metadata": {},
   "outputs": [],
   "source": []
  },
  {
   "cell_type": "code",
   "execution_count": 13,
   "id": "ff7d0979-daaf-4502-95f4-4787f9866656",
   "metadata": {},
   "outputs": [
    {
     "data": {
      "text/plain": [
       "3"
      ]
     },
     "execution_count": 13,
     "metadata": {},
     "output_type": "execute_result"
    }
   ],
   "source": [
    "from fractions import Fraction\n",
    "f = Fraction(10,6)\n",
    "f.numerator\n",
    "f.denominator"
   ]
  },
  {
   "cell_type": "code",
   "execution_count": 14,
   "id": "42acbba1-4e8d-46ae-8f77-937e7c4890a3",
   "metadata": {},
   "outputs": [
    {
     "data": {
      "text/plain": [
       "Fraction(-7070651414971679, 562949953421312)"
      ]
     },
     "execution_count": 14,
     "metadata": {},
     "output_type": "execute_result"
    }
   ],
   "source": [
    "Fraction(-12.56)"
   ]
  },
  {
   "cell_type": "code",
   "execution_count": null,
   "id": "2bc915c6-e696-4613-ba28-e5314207272b",
   "metadata": {},
   "outputs": [],
   "source": []
  },
  {
   "cell_type": "code",
   "execution_count": 17,
   "id": "62d95fc1-90e3-45dc-9350-04afef18c783",
   "metadata": {},
   "outputs": [
    {
     "name": "stdout",
     "output_type": "stream",
     "text": [
      "William Bruno\n",
      "WILLIAM BRUNO\n",
      "william bruno\n"
     ]
    }
   ],
   "source": [
    "name = \"william bruno\"\n",
    "print(name.title())\n",
    "print(name.upper())\n",
    "print(name.lower())"
   ]
  },
  {
   "cell_type": "code",
   "execution_count": null,
   "id": "03daccfc-896a-461b-b3fa-7d9ff33c4c11",
   "metadata": {},
   "outputs": [],
   "source": []
  },
  {
   "cell_type": "code",
   "execution_count": 21,
   "id": "1af13d9b-f5db-46b6-8784-f5b56e755f1b",
   "metadata": {},
   "outputs": [
    {
     "name": "stdout",
     "output_type": "stream",
     "text": [
      "Hello, \n",
      "\tWilliam Silva!\n"
     ]
    }
   ],
   "source": [
    "first_name = \"william\"\n",
    "last_name = \"silva\"\n",
    "name = f\"{first_name} {last_name}\"\n",
    "message = f\"Hello, \\n\\t{name.title()}!\"\n",
    "print(message)"
   ]
  },
  {
   "cell_type": "code",
   "execution_count": null,
   "id": "1599729e-2a58-4581-b025-245ef50d83f4",
   "metadata": {},
   "outputs": [],
   "source": []
  },
  {
   "cell_type": "code",
   "execution_count": 26,
   "id": "9bb5e7c6-abab-461d-b600-0bd9486191ae",
   "metadata": {},
   "outputs": [
    {
     "data": {
      "text/plain": [
       "'Java'"
      ]
     },
     "execution_count": 26,
     "metadata": {},
     "output_type": "execute_result"
    }
   ],
   "source": [
    "favorite_language = ' Java '\n",
    "favorite_language.rstrip()\n",
    "favorite_language.lstrip()\n",
    "favorite_language.strip()"
   ]
  },
  {
   "cell_type": "code",
   "execution_count": null,
   "id": "b22d691c-0fb9-496d-bc5b-0ae63b573366",
   "metadata": {},
   "outputs": [],
   "source": []
  },
  {
   "cell_type": "code",
   "execution_count": 27,
   "id": "3e0db1e5-282a-40a0-9268-b64cae19d208",
   "metadata": {},
   "outputs": [
    {
     "data": {
      "text/plain": [
       "'tads.com'"
      ]
     },
     "execution_count": 27,
     "metadata": {},
     "output_type": "execute_result"
    }
   ],
   "source": [
    "tads_url = \"https://tads.com\"\n",
    "tads_url.removeprefix(\"https://\")"
   ]
  },
  {
   "cell_type": "code",
   "execution_count": null,
   "id": "03f78cc3-298b-4edd-bb4e-21a4797952c0",
   "metadata": {},
   "outputs": [],
   "source": []
  },
  {
   "cell_type": "code",
   "execution_count": 29,
   "id": "ce3fabb5-c5bc-4502-bf3c-e1ff4a813dc6",
   "metadata": {},
   "outputs": [
    {
     "name": "stdout",
     "output_type": "stream",
     "text": [
      "Python's course\n"
     ]
    }
   ],
   "source": [
    "error_msg = \"Python's course\"\n",
    "print(error_msg)"
   ]
  },
  {
   "cell_type": "code",
   "execution_count": null,
   "id": "9f84a75e-5175-4e10-a15f-57dce8c454fb",
   "metadata": {},
   "outputs": [],
   "source": []
  },
  {
   "cell_type": "code",
   "execution_count": 32,
   "id": "33fd8065-d443-42cf-a32d-81f52567599f",
   "metadata": {},
   "outputs": [],
   "source": [
    "x, y, z = 10, 20, 30"
   ]
  },
  {
   "cell_type": "code",
   "execution_count": null,
   "id": "ae38a20c-c466-4124-9917-820d236ebd82",
   "metadata": {},
   "outputs": [],
   "source": []
  },
  {
   "cell_type": "markdown",
   "id": "3bfe17ae-6324-4ee5-baba-e8ec2f05584e",
   "metadata": {},
   "source": [
    "LISTAS"
   ]
  },
  {
   "cell_type": "code",
   "execution_count": 1,
   "id": "9377ff01-284f-43ae-b7a4-01c67fbfb65c",
   "metadata": {},
   "outputs": [
    {
     "name": "stdout",
     "output_type": "stream",
     "text": [
      "especialized\n"
     ]
    }
   ],
   "source": [
    "bycicles = [\"trek\", \"cannondale\", \"redline\", \"especialized\"]\n",
    "print(bycicles[-1])"
   ]
  },
  {
   "cell_type": "code",
   "execution_count": 7,
   "id": "9940f26c-35e7-4c33-9e1c-99ccdef9176b",
   "metadata": {},
   "outputs": [
    {
     "data": {
      "text/plain": [
       "['Monark', 'cannondale', 'redline', 'especialized', 'Caloi']"
      ]
     },
     "execution_count": 7,
     "metadata": {},
     "output_type": "execute_result"
    }
   ],
   "source": [
    "bycicles = [\"trek\", \"cannondale\", \"redline\", \"especialized\"]\n",
    "bycicles[0] = \"Monark\"\n",
    "bycicles.append(\"Caloi\")\n",
    "bycicles"
   ]
  },
  {
   "cell_type": "code",
   "execution_count": 9,
   "id": "ec3a1c43-34f3-4cf8-8003-e0cca1f237ed",
   "metadata": {},
   "outputs": [
    {
     "data": {
      "text/plain": [
       "['Shimano', 'trek', 'cannondale', 'redline', 'especialized']"
      ]
     },
     "execution_count": 9,
     "metadata": {},
     "output_type": "execute_result"
    }
   ],
   "source": [
    "bycicles = [\"trek\", \"cannondale\", \"redline\", \"especialized\"]\n",
    "bycicles.insert(0, \"Shimano\")\n",
    "bycicles"
   ]
  },
  {
   "cell_type": "code",
   "execution_count": 10,
   "id": "ead04f27-3288-462b-bcc5-c16c2c6b3e58",
   "metadata": {},
   "outputs": [
    {
     "data": {
      "text/plain": [
       "['cannondale', 'redline', 'especialized']"
      ]
     },
     "execution_count": 10,
     "metadata": {},
     "output_type": "execute_result"
    }
   ],
   "source": [
    "bycicles = [\"trek\", \"cannondale\", \"redline\", \"especialized\"]\n",
    "del bycicles[0]\n",
    "bycicles"
   ]
  },
  {
   "cell_type": "code",
   "execution_count": 11,
   "id": "bc3ad4f2-336c-4725-aafa-02322e05305e",
   "metadata": {},
   "outputs": [
    {
     "data": {
      "text/plain": [
       "['trek', 'cannondale', 'redline']"
      ]
     },
     "execution_count": 11,
     "metadata": {},
     "output_type": "execute_result"
    }
   ],
   "source": [
    "bycicles = [\"trek\", \"cannondale\", \"redline\", \"especialized\"]\n",
    "bycicles.pop()\n",
    "bycicles"
   ]
  },
  {
   "cell_type": "code",
   "execution_count": 16,
   "id": "200abe12-e16f-4331-9814-3fc059363ba0",
   "metadata": {},
   "outputs": [
    {
     "data": {
      "text/plain": [
       "['trek', 'redline', 'especialized']"
      ]
     },
     "execution_count": 16,
     "metadata": {},
     "output_type": "execute_result"
    }
   ],
   "source": [
    "bycicles = [\"trek\", \"cannondale\", \"redline\", \"especialized\"]\n",
    "bycicles.remove(\"cannondale\")\n",
    "bycicles"
   ]
  },
  {
   "cell_type": "markdown",
   "id": "39d25dd5-bc9b-46d1-be88-d6ec7f22bf85",
   "metadata": {},
   "source": [
    "ORDENAÇÃO"
   ]
  },
  {
   "cell_type": "code",
   "execution_count": 17,
   "id": "821a6389-5f22-4fbb-be1a-6274b4483ea8",
   "metadata": {},
   "outputs": [
    {
     "data": {
      "text/plain": [
       "['audi', 'bmw', 'subaru', 'toyota']"
      ]
     },
     "execution_count": 17,
     "metadata": {},
     "output_type": "execute_result"
    }
   ],
   "source": [
    "cars = [\"bmw\",\"audi\",\"toyota\",\"subaru\"]\n",
    "cars.sort() # Altera a lista original\n",
    "cars"
   ]
  },
  {
   "cell_type": "code",
   "execution_count": 19,
   "id": "a8d7aff4-2779-4fdb-be16-8466bc9233b1",
   "metadata": {},
   "outputs": [
    {
     "data": {
      "text/plain": [
       "['toyota', 'subaru', 'bmw', 'audi']"
      ]
     },
     "execution_count": 19,
     "metadata": {},
     "output_type": "execute_result"
    }
   ],
   "source": [
    "cars = [\"bmw\",\"audi\",\"toyota\",\"subaru\"]\n",
    "cars.sort(reverse=True) # Altera a lista original\n",
    "cars"
   ]
  },
  {
   "cell_type": "code",
   "execution_count": 23,
   "id": "a4d46240-3266-40b5-9f49-c21f4f9af06f",
   "metadata": {},
   "outputs": [
    {
     "name": "stdout",
     "output_type": "stream",
     "text": [
      "['audi', 'bmw', 'subaru', 'toyota']\n"
     ]
    }
   ],
   "source": [
    "cars = [\"bmw\",\"audi\",\"toyota\",\"subaru\"]\n",
    "ordenado = sorted(cars) # Não altera a lista original\n",
    "print(ordenado)"
   ]
  },
  {
   "cell_type": "code",
   "execution_count": 25,
   "id": "833ff11d-8b5e-427d-b8d8-1da1df8e6071",
   "metadata": {},
   "outputs": [
    {
     "data": {
      "text/plain": [
       "['Huguinho', 'Luizinho', 'Zezinho']"
      ]
     },
     "execution_count": 25,
     "metadata": {},
     "output_type": "execute_result"
    }
   ],
   "source": [
    "sobrinhos = [\"Huguinho\",\"Zezinho\",\"Luizinho\"] # A ordenação é case-sensitive\n",
    "sobrinhos.sort()\n",
    "sobrinhos"
   ]
  },
  {
   "cell_type": "code",
   "execution_count": 26,
   "id": "d812ea46-8840-42fd-9a7b-d0501f51a5f4",
   "metadata": {},
   "outputs": [
    {
     "name": "stdout",
     "output_type": "stream",
     "text": [
      "['Abacaxi', 'maçã', 'Melão', 'Pêra', 'Uva']\n"
     ]
    }
   ],
   "source": [
    "# Ordenação case-insensitive\n",
    "lista = [\"maçã\",\"Pêra\",\"Abacaxi\",\"Uva\",\"Melão\"]\n",
    "lista_ordenada = sorted(lista, key=str.lower) # O argumento key=str.lower determina que o valor será transformado para lowercase\n",
    "print(lista_ordenada)"
   ]
  },
  {
   "cell_type": "code",
   "execution_count": 27,
   "id": "323d5123-283f-454a-ac9f-fd10ddd67bfd",
   "metadata": {},
   "outputs": [
    {
     "data": {
      "text/plain": [
       "['Luizinho', 'Zezinho', 'Huguinho']"
      ]
     },
     "execution_count": 27,
     "metadata": {},
     "output_type": "execute_result"
    }
   ],
   "source": [
    "sobrinhos = [\"Huguinho\",\"Zezinho\",\"Luizinho\"]\n",
    "sobrinhos.reverse() # Inverte a ordenação da lista\n",
    "sobrinhos"
   ]
  },
  {
   "cell_type": "code",
   "execution_count": 29,
   "id": "77bf15ed-7e87-42c2-b0c7-5772347fafbf",
   "metadata": {},
   "outputs": [
    {
     "data": {
      "text/plain": [
       "3"
      ]
     },
     "execution_count": 29,
     "metadata": {},
     "output_type": "execute_result"
    }
   ],
   "source": [
    "sobrinhos = [\"Huguinho\",\"Zezinho\",\"Luizinho\"]\n",
    "len(sobrinhos)"
   ]
  },
  {
   "cell_type": "markdown",
   "id": "9e88aba2-5ac0-4a1a-8dea-750cd838cf54",
   "metadata": {},
   "source": [
    "FOR"
   ]
  },
  {
   "cell_type": "code",
   "execution_count": 34,
   "id": "1af260be-efca-412d-ab64-9c4f06186e01",
   "metadata": {},
   "outputs": [
    {
     "name": "stdout",
     "output_type": "stream",
     "text": [
      "Samuelzim, foi um ótimo truque!\n",
      "Raphaelzim, foi um ótimo truque!\n",
      "Renanzim, foi um ótimo truque!\n"
     ]
    }
   ],
   "source": [
    "magicians = [\"samuelzim\",\"raphaelzim\",\"renanzim\"]\n",
    "for magician in magicians:\n",
    "    print(f\"{magician.title()}, foi um ótimo truque!\")"
   ]
  },
  {
   "cell_type": "markdown",
   "id": "86c08d69-5d01-4dce-b5b2-d7a28de1336d",
   "metadata": {},
   "source": []
  },
  {
   "cell_type": "code",
   "execution_count": 37,
   "id": "c6355d15-92de-4ebb-8003-a83c69fe755c",
   "metadata": {},
   "outputs": [
    {
     "name": "stdout",
     "output_type": "stream",
     "text": [
      "1\n",
      "2\n",
      "3\n",
      "4\n"
     ]
    }
   ],
   "source": [
    "lista = range(1,5)\n",
    "len(lista)\n",
    "\n",
    "for x in range(1,5):\n",
    "    print(x)"
   ]
  },
  {
   "cell_type": "code",
   "execution_count": 40,
   "id": "f4a33cec-9739-4353-b273-a075b2762ab7",
   "metadata": {},
   "outputs": [
    {
     "data": {
      "text/plain": [
       "[1, 2, 3, 4]"
      ]
     },
     "execution_count": 40,
     "metadata": {},
     "output_type": "execute_result"
    }
   ],
   "source": [
    "lista = list(range(1,5))\n",
    "lista"
   ]
  },
  {
   "cell_type": "code",
   "execution_count": 41,
   "id": "3af0c68d-de19-4d74-99d4-41c227ead633",
   "metadata": {},
   "outputs": [
    {
     "data": {
      "text/plain": [
       "[2, 4, 6, 8]"
      ]
     },
     "execution_count": 41,
     "metadata": {},
     "output_type": "execute_result"
    }
   ],
   "source": [
    "even_numbers = list(range(2,10,2))\n",
    "even_numbers"
   ]
  },
  {
   "cell_type": "code",
   "execution_count": null,
   "id": "aca46571-6e62-49fa-a9ec-b49d65101871",
   "metadata": {},
   "outputs": [],
   "source": []
  },
  {
   "cell_type": "code",
   "execution_count": 43,
   "id": "410c467c-d539-43d1-9ff3-522dd8951e43",
   "metadata": {},
   "outputs": [
    {
     "name": "stdout",
     "output_type": "stream",
     "text": [
      "[1, 4, 9, 16, 25, 36, 49, 64, 81, 100]\n"
     ]
    }
   ],
   "source": [
    "squares = []\n",
    "\n",
    "for value in range(1, 11):\n",
    "  square = value ** 2\n",
    "  squares.append(square)\n",
    "\n",
    "print(squares)"
   ]
  },
  {
   "cell_type": "code",
   "execution_count": 44,
   "id": "7fa9c645-7e5f-44db-9bc8-f942703a08d0",
   "metadata": {},
   "outputs": [
    {
     "data": {
      "text/plain": [
       "45"
      ]
     },
     "execution_count": 44,
     "metadata": {},
     "output_type": "execute_result"
    }
   ],
   "source": [
    "digits = [1, 2, 3, 4, 5, 6, 7, 8, 9, 0]\n",
    "\n",
    "min(digits)\n",
    "\n",
    "max(digits)\n",
    "\n",
    "sum(digits)"
   ]
  },
  {
   "cell_type": "code",
   "execution_count": null,
   "id": "ba3076ff-03dc-468c-bfb3-e3ce2c7e7f10",
   "metadata": {},
   "outputs": [],
   "source": []
  }
 ],
 "metadata": {
  "kernelspec": {
   "display_name": "Python 3 (ipykernel)",
   "language": "python",
   "name": "python3"
  },
  "language_info": {
   "codemirror_mode": {
    "name": "ipython",
    "version": 3
   },
   "file_extension": ".py",
   "mimetype": "text/x-python",
   "name": "python",
   "nbconvert_exporter": "python",
   "pygments_lexer": "ipython3",
   "version": "3.12.7"
  }
 },
 "nbformat": 4,
 "nbformat_minor": 5
}
