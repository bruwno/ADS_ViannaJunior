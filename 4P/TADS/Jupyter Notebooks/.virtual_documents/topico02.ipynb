


print("Usando notebook")


teste = 1
print(teste)


pi = 3.1415926536
radius = 4.5
area = pi * (radius ** 2)
area





import sys
sys.float_info





c = 3.14 + 2.73j
c.real
c.imag





d = complex(2.45,8.75)
d.imag





from fractions import Fraction
f = Fraction(10,6)
f.numerator
f.denominator


Fraction(-12.56)





name = "william bruno"
print(name.title())
print(name.upper())
print(name.lower())





first_name = "william"
last_name = "silva"
name = f"{first_name} {last_name}"
message = f"Hello, \n\t{name.title()}!"
print(message)





favorite_language = ' Java '
favorite_language.rstrip()
favorite_language.lstrip()
favorite_language.strip()





tads_url = "https://tads.com"
tads_url.removeprefix("https://")





error_msg = "Python's course"
print(error_msg)





x, y, z = 10, 20, 30








bycicles = ["trek", "cannondale", "redline", "especialized"]
print(bycicles[-1])


bycicles = ["trek", "cannondale", "redline", "especialized"]
bycicles[0] = "Monark"
bycicles.append("Caloi")
bycicles


bycicles = ["trek", "cannondale", "redline", "especialized"]
bycicles.insert(0, "Shimano")
bycicles


bycicles = ["trek", "cannondale", "redline", "especialized"]
del bycicles[0]
bycicles


bycicles = ["trek", "cannondale", "redline", "especialized"]
bycicles.pop()
bycicles


bycicles = ["trek", "cannondale", "redline", "especialized"]
bycicles.remove("cannondale")
bycicles





cars = ["bmw","audi","toyota","subaru"]
cars.sort() # Altera a lista original
cars


cars = ["bmw","audi","toyota","subaru"]
cars.sort(reverse=True) # Altera a lista original
cars


cars = ["bmw","audi","toyota","subaru"]
ordenado = sorted(cars) # Não altera a lista original
print(ordenado)


sobrinhos = ["Huguinho","Zezinho","Luizinho"] # A ordenação é case-sensitive
sobrinhos.sort()
sobrinhos


# Ordenação case-insensitive
lista = ["maçã","Pêra","Abacaxi","Uva","Melão"]
lista_ordenada = sorted(lista, key=str.lower) # O argumento key=str.lower determina que o valor será transformado para lowercase
print(lista_ordenada)


sobrinhos = ["Huguinho","Zezinho","Luizinho"]
sobrinhos.reverse() # Inverte a ordenação da lista
sobrinhos


sobrinhos = ["Huguinho","Zezinho","Luizinho"]
len(sobrinhos)





magicians = ["samuelzim","raphaelzim","renanzim"]
for magician in magicians:
    print(f"{magician.title()}, foi um ótimo truque!")





lista = range(1,5)
len(lista)

for x in range(1,5):
    print(x)


lista = list(range(1,5))
lista


even_numbers = list(range(2,10,2))
even_numbers





squares = []

for value in range(1, 11):
  square = value ** 2
  squares.append(square)

print(squares)


digits = [1, 2, 3, 4, 5, 6, 7, 8, 9, 0]

min(digits)

max(digits)

sum(digits)



